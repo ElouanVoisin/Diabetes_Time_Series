{
 "cells": [
  {
   "cell_type": "code",
   "execution_count": null,
   "id": "459dec5a",
   "metadata": {},
   "outputs": [],
   "source": [
    "import matplotlib.pyplot as plt\n",
    "import numpy as np\n",
    "import pandas as pd\n",
    "path = \"/Users/macbookpro/Documents/GitHub/Diabetes_Time_Series/data-01\" ## --> Data from Univeristy of California\n",
    "from statsmodels.graphics.tsaplots import plot_acf, plot_pacf\n",
    "from statsmodels.tsa.arima_model import ARMA\n",
    "import warnings # Supress warnings \n",
    "warnings.filterwarnings('ignore')"
   ]
  },
  {
   "cell_type": "code",
   "execution_count": null,
   "id": "c20146df",
   "metadata": {},
   "outputs": [],
   "source": [
    "data_init = np.array(pd.read_table(path, sep=\"\\t\"))\n",
    "value_sugar = [58,59,60,61,62,63,64]\n",
    "id_sugar = np.array([data_init[i,2] in value_sugar for i in range(len(data_init))])\n",
    "data = np.array(data_init[id_sugar,3], dtype=float)\n",
    "plt.plot(data, '-o');\n",
    "plt.xlabel(\"Time\")\n",
    "plt.title(\"Blood Glucose Measurement\");"
   ]
  },
  {
   "cell_type": "code",
   "execution_count": null,
   "id": "f6882151",
   "metadata": {},
   "outputs": [],
   "source": [
    "ldata = np.log(data) ## Reducing variability of data\n",
    "plt.plot(ldata, '-o');\n",
    "plt.xlabel(\"Time\")\n",
    "plt.title(\"Transformed data\");"
   ]
  },
  {
   "cell_type": "code",
   "execution_count": null,
   "id": "d7e629c0",
   "metadata": {},
   "outputs": [],
   "source": [
    "dldata = np.array([ldata[i]-ldata[i+1] for i in range(len(ldata)-1)]) ## Differentiated serie\n",
    "plt.plot(dldata, '-o');\n",
    "plt.xlabel(\"Time\")\n",
    "plt.title(\"Transformed data\");"
   ]
  },
  {
   "cell_type": "code",
   "execution_count": null,
   "id": "8d216a7d",
   "metadata": {},
   "outputs": [],
   "source": [
    "plot_acf(dldata), plot_pacf(dldata) ## --> Suggest MA(2)"
   ]
  },
  {
   "cell_type": "code",
   "execution_count": null,
   "id": "12e6a094",
   "metadata": {},
   "outputs": [],
   "source": [
    "models = [ARMA(dldata, order=(i,j)).fit() for i in range(3) for j in range(3)]\n",
    "for model in models:\n",
    "    print(\"*\"*10)\n",
    "    print(model.summary())\n",
    "model = models[2] ## --> Best model (MA(2))"
   ]
  },
  {
   "cell_type": "code",
   "execution_count": null,
   "id": "fc52f2a9",
   "metadata": {},
   "outputs": [],
   "source": [
    "prediction = model.predict(end=50) ## Prediction of the future"
   ]
  },
  {
   "cell_type": "code",
   "execution_count": null,
   "id": "ceaf6d01",
   "metadata": {},
   "outputs": [],
   "source": [
    "dldata_predict = np.concatenate((dldata, prediction))\n",
    "plt.plot(np.arange(len(dldata)), dldata, '-ob', label = \"data\");\n",
    "plt.plot(np.arange(len(dldata), len(dldata_predict)), prediction, '-or', label = \"prediction\");\n",
    "plt.xlabel(\"Time\")\n",
    "plt.title(\"Time serie prediction\");\n",
    "plt.legend();"
   ]
  },
  {
   "cell_type": "code",
   "execution_count": null,
   "id": "2b0e8cf4",
   "metadata": {},
   "outputs": [],
   "source": [
    "replace_prediction = model.predict(start = len(dldata)-50+1, end=len(dldata)) ## Prediction of the end of the data"
   ]
  },
  {
   "cell_type": "code",
   "execution_count": null,
   "id": "5e7891c6",
   "metadata": {},
   "outputs": [],
   "source": [
    "dldata_replace_predict = np.concatenate((dldata[:-50], replace_prediction))\n",
    "plt.plot(dldata, '-ob', alpha=0.3, label = \"data\");\n",
    "plt.plot(np.arange(len(dldata[:-50]), len(dldata_replace_predict)),\n",
    "         replace_prediction, '-om', label = \"preditcion\");\n",
    "plt.xlabel(\"Time\")\n",
    "plt.title(\"Prediction of the end of the data\");\n",
    "plt.legend();"
   ]
  },
  {
   "cell_type": "code",
   "execution_count": null,
   "id": "fdc6fc48",
   "metadata": {},
   "outputs": [],
   "source": [
    "plt.plot(np.arange(len(dldata[:-50]), len(dldata_replace_predict)),\n",
    "         replace_prediction, '-om', alpha=0.7, label = \"prediction\");\n",
    "plt.plot(np.arange(len(dldata[:-50]), len(dldata_replace_predict)),\n",
    "         dldata[-50:], '-ob', alpha=0.7, label = \"data\");\n",
    "plt.xlabel(\"Time\")\n",
    "plt.title(\"Zoom\");\n",
    "plt.legend();"
   ]
  },
  {
   "cell_type": "code",
   "execution_count": null,
   "id": "cfc704aa",
   "metadata": {},
   "outputs": [],
   "source": [
    "residuals = (replace_prediction-dldata[-50:])\n",
    "qqplot(residuals, line=\"45\")\n",
    "plt.title(\"QQ-plot of residuals\") ## --> Samples quantiles are near the theorical quantile of a white noise (the line)"
   ]
  },
  {
   "cell_type": "code",
   "execution_count": null,
   "id": "dcd4c88e",
   "metadata": {},
   "outputs": [],
   "source": [
    "_, pvalues = acorr_ljungbox(residuals)\n",
    "plt.scatter(range(1,24),pvalues);\n",
    "plt.plot([0.05]*(len(pvalues)+2), '--r');\n",
    "plt.xlim(0,len(pvalues)+1);\n",
    "plt.xlabel(\"Lag\")\n",
    "plt.title(\"P-value Ljung-Box\"); ## --> All are greater than 5% which means our prediction is surely correct"
   ]
  }
 ],
 "metadata": {
  "kernelspec": {
   "display_name": "Python 3",
   "language": "python",
   "name": "python3"
  },
  "language_info": {
   "codemirror_mode": {
    "name": "ipython",
    "version": 3
   },
   "file_extension": ".py",
   "mimetype": "text/x-python",
   "name": "python",
   "nbconvert_exporter": "python",
   "pygments_lexer": "ipython3",
   "version": "3.8.8"
  }
 },
 "nbformat": 4,
 "nbformat_minor": 5
}
